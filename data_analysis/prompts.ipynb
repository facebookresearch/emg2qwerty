{
 "cells": [
  {
   "cell_type": "code",
   "execution_count": 139,
   "metadata": {},
   "outputs": [],
   "source": [
    "from emg2qwerty.data import EMGSessionData\n",
    "import os\n",
    "import nltk\n",
    "from nltk.corpus import brown # May need to download\n",
    "from nltk.probability import FreqDist\n",
    "import collections\n",
    "import numpy as np\n",
    "import matplotlib.pyplot as plt \n",
    "from scipy.stats import entropy\n",
    "\n",
    "DATA_ROOT = '/private/home/nmehlman/emg2qwerty/data'"
   ]
  },
  {
   "cell_type": "code",
   "execution_count": 58,
   "metadata": {},
   "outputs": [],
   "source": [
    "def get_session_text_prompts(session: EMGSessionData) -> list:\n",
    "    return [prompt['payload']['text'][:-1] for prompt in session.prompts if prompt['name'] == 'text_prompt'] # Remove final '⏎' char"
   ]
  },
  {
   "cell_type": "code",
   "execution_count": 82,
   "metadata": {},
   "outputs": [],
   "source": [
    "session_files = [os.path.join(DATA_ROOT, f) for f in os.listdir(DATA_ROOT) if f.endswith('.hdf5')]\n",
    "\n",
    "prompts = []\n",
    "for file in session_files: # Get all text prompts\n",
    "    session_data = EMGSessionData(file)\n",
    "    prompts += get_session_text_prompts(session_data)"
   ]
  },
  {
   "cell_type": "code",
   "execution_count": 105,
   "metadata": {},
   "outputs": [],
   "source": [
    "baseline_word_priors = FreqDist(brown.words()) # Use brown corpus as 'prior' for word freqeuncy\n",
    "prompt_word_counts = collections.Counter(word for string in prompts for word in string.split())\n",
    "\n",
    "# Normalize word counts to get probability\n",
    "total = prompt_word_counts.total()\n",
    "prompt_word_freq = {word: count/total for word, count in prompt_word_counts.items()}\n",
    "prompt_word_freq = {word: prompt_word_freq[word] for word in \n",
    "                        sorted(\n",
    "                                prompt_word_freq.keys(), \n",
    "                                key = lambda x: prompt_word_freq[x], \n",
    "                                reverse=True) } # Sort word by freqeuncy high to low\n",
    "\n",
    "prior_word_freq = {word: baseline_word_priors.freq(word) for word in prompt_word_freq}"
   ]
  },
  {
   "cell_type": "markdown",
   "metadata": {},
   "source": [
    "## Plot freqeuncy of N most common words"
   ]
  },
  {
   "cell_type": "code",
   "execution_count": 127,
   "metadata": {},
   "outputs": [
    {
     "data": {
      "image/png": "[encoded data removed]",
      "text/plain": [
       "<Figure size 1000x500 with 1 Axes>"
      ]
     },
     "metadata": {},
     "output_type": "display_data"
    }
   ],
   "source": [
    "N_PLOT_WORDS = 1000\n",
    "\n",
    "plt.figure(figsize=(10,5))\n",
    "\n",
    "words = list(prompt_word_freq.keys())[:N_PLOT_WORDS]\n",
    "freqs_prior = [prior_word_freq[word] for word in words]\n",
    "freqs_prompts = [prompt_word_freq[word] for word in words]\n",
    "\n",
    "#x = words\n",
    "x = list(range(N_PLOT_WORDS))\n",
    "\n",
    "plt.bar(x, freqs_prior, log=True, alpha=0.3, label='prompt')\n",
    "plt.bar(x, freqs_prompts, log=True, alpha=0.3, label='prior')\n",
    "\n",
    "#plt.gca().set_xticklabels(words, rotation=90)\n",
    "plt.xticks([])\n",
    "\n",
    "plt.legend()\n",
    "plt.ylabel('Frequency')\n",
    "plt.show()"
   ]
  },
  {
   "cell_type": "markdown",
   "metadata": {},
   "source": [
    "## Compute KL divergence"
   ]
  },
  {
   "cell_type": "code",
   "execution_count": 148,
   "metadata": {},
   "outputs": [
    {
     "name": "stdout",
     "output_type": "stream",
     "text": [
      "KL divergence: 7.2916e-01\n"
     ]
    }
   ],
   "source": [
    "p_prompts = np.array(list(prompt_word_freq.values()))\n",
    "p_prior = np.array(list(prior_word_freq.values()))\n",
    "p_prior = p_prior/np.sum(p_prior) # Re-normalize\n",
    "\n",
    "kl_div = entropy(p_prompts[ p_prior>0 ], p_prior[ p_prior>0 ])\n",
    "\n",
    "print(f'KL divergence: {kl_div:.4e}')\n"
   ]
  },
  {
   "cell_type": "code",
   "execution_count": null,
   "metadata": {},
   "outputs": [],
   "source": []
  }
 ],
 "metadata": {
  "kernelspec": {
   "display_name": "emg2qwerty",
   "language": "python",
   "name": "python3"
  },
  "language_info": {
   "codemirror_mode": {
    "name": "ipython",
    "version": 3
   },
   "file_extension": ".py",
   "mimetype": "text/x-python",
   "name": "python",
   "nbconvert_exporter": "python",
   "pygments_lexer": "ipython3",
   "version": "3.1.-1"
  }
 },
 "nbformat": 4,
 "nbformat_minor": 2
}
