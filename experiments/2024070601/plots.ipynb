{
 "cells": [
  {
   "cell_type": "markdown",
   "metadata": {},
   "source": [
    "Personalization of generic model [2024070501] using greedy decoding"
   ]
  },
  {
   "cell_type": "code",
   "execution_count": 1,
   "metadata": {},
   "outputs": [],
   "source": [
    "import os\n",
    "import pandas as pd\n",
    "import json\n",
    "import numpy as np"
   ]
  },
  {
   "cell_type": "code",
   "execution_count": 2,
   "metadata": {},
   "outputs": [],
   "source": [
    "paper_results = json.load(open('../paper_results.json'))['personalized_finetuned_CER']\n",
    "\n",
    "mean_val_CER_per_seed = []\n",
    "mean_test_CER_per_seed = []\n",
    "for seed_dir in os.listdir('metrics'): # For each seed\n",
    "\n",
    "    seed_dir_path = os.path.join('metrics', seed_dir)\n",
    "    val_CER, test_CER = [], []\n",
    "\n",
    "    for user_file in os.listdir(seed_dir_path): # For each user\n",
    "\n",
    "        metrics = json.load(open(os.path.join(seed_dir_path, user_file)))\n",
    "        val_CER.append(metrics['val']['CER'])\n",
    "        test_CER.append(metrics['test']['CER'])\n",
    "\n",
    "    mean_val_CER_per_seed.append(np.mean(val_CER))\n",
    "    mean_test_CER_per_seed.append(np.mean(test_CER))\n",
    "\n",
    "compiled_results = {\n",
    "    \"mean_val_CER\": np.mean(mean_val_CER_per_seed),\n",
    "    \"mean_test_CER\": np.mean(mean_test_CER_per_seed),\n",
    "    \"val_CER_std\": np.std(mean_val_CER_per_seed),\n",
    "    \"test_CER_std\": np.std(mean_test_CER_per_seed),\n",
    "}"
   ]
  },
  {
   "cell_type": "code",
   "execution_count": 3,
   "metadata": {},
   "outputs": [
    {
     "data": {
      "text/plain": [
       "{'mean_val_CER': 12.989702022075653,\n",
       " 'mean_test_CER': 12.859424024820328,\n",
       " 'val_CER_std': 0.2652095223823428,\n",
       " 'test_CER_std': 0.22393173632258118}"
      ]
     },
     "execution_count": 3,
     "metadata": {},
     "output_type": "execute_result"
    }
   ],
   "source": [
    "compiled_results"
   ]
  },
  {
   "cell_type": "code",
   "execution_count": 4,
   "metadata": {},
   "outputs": [
    {
     "data": {
      "text/plain": [
       "{'val_no_lm': 11.39,\n",
       " 'test_no_lm': 11.28,\n",
       " 'val_6_gram': 8.31,\n",
       " 'test_6_gram': 6.95}"
      ]
     },
     "execution_count": 4,
     "metadata": {},
     "output_type": "execute_result"
    }
   ],
   "source": [
    "paper_results"
   ]
  },
  {
   "cell_type": "code",
   "execution_count": null,
   "metadata": {},
   "outputs": [],
   "source": []
  }
 ],
 "metadata": {
  "kernelspec": {
   "display_name": "emg2qwerty",
   "language": "python",
   "name": "python3"
  },
  "language_info": {
   "codemirror_mode": {
    "name": "ipython",
    "version": 3
   },
   "file_extension": ".py",
   "mimetype": "text/x-python",
   "name": "python",
   "nbconvert_exporter": "python",
   "pygments_lexer": "ipython3",
   "version": "3.1.-1"
  }
 },
 "nbformat": 4,
 "nbformat_minor": 2
}
