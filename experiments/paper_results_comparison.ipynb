{
 "cells": [
  {
   "cell_type": "code",
   "execution_count": 1,
   "metadata": {},
   "outputs": [],
   "source": [
    "import json\n",
    "import pandas as pd\n",
    "import os\n",
    "import numpy as np"
   ]
  },
  {
   "cell_type": "code",
   "execution_count": 2,
   "metadata": {},
   "outputs": [],
   "source": [
    "# Mapping for experiments\n",
    "GENERIC_GREEDY = \"2024070401\"\n",
    "GENERIC_LM = \"2024070402\"\n",
    "\n",
    "PERSONALIZED_RANDINIT_GREEDY = \"2024070302\"\n",
    "PERSONALIZED_RANINIT_LM = \"2024070305\"\n",
    "\n",
    "PERSONALIZED_FINETUNED_GREEDY = \"2024070301\"\n",
    "PERSONALIZED_FINETUNED_LM = \"2024070304\""
   ]
  },
  {
   "cell_type": "code",
   "execution_count": 3,
   "metadata": {},
   "outputs": [],
   "source": [
    "def load_metrics(metrics_dir: str) -> tuple:\n",
    "\n",
    "    user_cer_test = []\n",
    "    user_cer_val = []\n",
    "\n",
    "    user_metric_files = os.listdir(metrics_dir)\n",
    "\n",
    "    for user_file in user_metric_files:\n",
    "\n",
    "        # Loader user results\n",
    "        user_metrics = json.load(open(os.path.join(metrics_dir, user_file)))\n",
    "\n",
    "        # Extract CER for val and test splits\n",
    "        user_cer_test.append(user_metrics['test']['CER'])\n",
    "        user_cer_val.append(user_metrics['val']['CER'])\n",
    "\n",
    "    mean_cer_test = np.mean(user_cer_test)\n",
    "    mean_cer_val = np.mean(user_cer_val)\n",
    "\n",
    "    return mean_cer_val, mean_cer_test"
   ]
  },
  {
   "cell_type": "code",
   "execution_count": 4,
   "metadata": {},
   "outputs": [],
   "source": [
    "paper_results = json.load(open('paper_results.json'))\n",
    "\n",
    "compiled_results = pd.DataFrame(\n",
    "    \n",
    "    columns= ['val_greedy_paper', 'val_greedy_ours', 'test_greedy_paper', 'test_greedy_ours', 'val_6_gram_paper', 'val_6_gram_ours', \n",
    "              'test_6_gram_paper', 'test_6_gram_ours'],\n",
    "\n",
    "    index = ['generic', 'personalized_random_init', 'personalized_finetuned']\n",
    ")\n",
    "\n",
    "compiled_results.iloc[:, ['paper' in x for x in compiled_results.columns]] = pd.DataFrame(paper_results).T\n",
    "\n",
    "cer_generic_greedy_val, cer_generic_greedy_test = load_metrics(os.path.join(GENERIC_GREEDY, 'metrics'))\n",
    "compiled_results.loc['generic', 'val_greedy_ours'] = cer_generic_greedy_val\n",
    "compiled_results.loc['generic', 'test_greedy_ours'] = cer_generic_greedy_test\n",
    "\n",
    "cer_generic_lm_val, cer_generic_lm_test = load_metrics(os.path.join(GENERIC_LM, 'metrics'))\n",
    "compiled_results.loc['generic', 'val_6_gram_ours'] = cer_generic_lm_val\n",
    "compiled_results.loc['generic', 'test_6_gram_ours'] = cer_generic_lm_test\n",
    "\n",
    "cer_personalized_randinit_greedy_val, cer_personalized_randinit_greedy_test = load_metrics(os.path.join(PERSONALIZED_RANDINIT_GREEDY, 'metrics'))\n",
    "compiled_results.loc['personalized_random_init', 'val_greedy_ours'] = cer_personalized_randinit_greedy_val\n",
    "compiled_results.loc['personalized_random_init', 'test_greedy_ours'] = cer_personalized_randinit_greedy_test\n",
    "\n",
    "cer_personalized_randinit_lm_val, cer_personalized_randinit_lm_test = load_metrics(os.path.join(PERSONALIZED_RANINIT_LM, 'metrics'))\n",
    "compiled_results.loc['personalized_random_init', 'val_6_gram_ours'] = cer_personalized_randinit_lm_val\n",
    "compiled_results.loc['personalized_random_init', 'test_6_gram_ours'] = cer_personalized_randinit_lm_test\n",
    "\n",
    "cer_personalized_ft_greedy_val, cer_personalized_ft_greedy_test = load_metrics(os.path.join(PERSONALIZED_FINETUNED_GREEDY, 'metrics'))\n",
    "compiled_results.loc['personalized_finetuned', 'val_greedy_ours'] = cer_personalized_ft_greedy_val\n",
    "compiled_results.loc['personalized_finetuned', 'test_greedy_ours'] = cer_personalized_ft_greedy_test\n",
    "\n",
    "cer_personalized_ft_lm_val, cer_personalized_ft_lm_test = load_metrics(os.path.join(PERSONALIZED_FINETUNED_LM, 'metrics'))\n",
    "compiled_results.loc['personalized_finetuned', 'val_6_gram_ours'] = cer_personalized_ft_lm_val\n",
    "compiled_results.loc['personalized_finetuned', 'test_6_gram_ours'] = cer_personalized_ft_lm_test"
   ]
  },
  {
   "cell_type": "code",
   "execution_count": 5,
   "metadata": {},
   "outputs": [
    {
     "data": {
      "text/html": [
       "<div>\n",
       "<style scoped>\n",
       "    .dataframe tbody tr th:only-of-type {\n",
       "        vertical-align: middle;\n",
       "    }\n",
       "\n",
       "    .dataframe tbody tr th {\n",
       "        vertical-align: top;\n",
       "    }\n",
       "\n",
       "    .dataframe thead th {\n",
       "        text-align: right;\n",
       "    }\n",
       "</style>\n",
       "<table border=\"1\" class=\"dataframe\">\n",
       "  <thead>\n",
       "    <tr style=\"text-align: right;\">\n",
       "      <th></th>\n",
       "      <th>val_greedy_paper</th>\n",
       "      <th>val_greedy_ours</th>\n",
       "      <th>test_greedy_paper</th>\n",
       "      <th>test_greedy_ours</th>\n",
       "      <th>val_6_gram_paper</th>\n",
       "      <th>val_6_gram_ours</th>\n",
       "      <th>test_6_gram_paper</th>\n",
       "      <th>test_6_gram_ours</th>\n",
       "    </tr>\n",
       "  </thead>\n",
       "  <tbody>\n",
       "    <tr>\n",
       "      <th>generic</th>\n",
       "      <td>55.57</td>\n",
       "      <td>52.656243</td>\n",
       "      <td>55.38</td>\n",
       "      <td>52.268356</td>\n",
       "      <td>52.1</td>\n",
       "      <td>47.55967</td>\n",
       "      <td>51.78</td>\n",
       "      <td>47.049965</td>\n",
       "    </tr>\n",
       "    <tr>\n",
       "      <th>personalized_random_init</th>\n",
       "      <td>15.65</td>\n",
       "      <td>18.583681</td>\n",
       "      <td>15.38</td>\n",
       "      <td>17.035794</td>\n",
       "      <td>11.03</td>\n",
       "      <td>12.045632</td>\n",
       "      <td>9.55</td>\n",
       "      <td>9.125092</td>\n",
       "    </tr>\n",
       "    <tr>\n",
       "      <th>personalized_finetuned</th>\n",
       "      <td>11.39</td>\n",
       "      <td>13.229574</td>\n",
       "      <td>11.28</td>\n",
       "      <td>13.046594</td>\n",
       "      <td>8.31</td>\n",
       "      <td>8.955916</td>\n",
       "      <td>6.95</td>\n",
       "      <td>7.674819</td>\n",
       "    </tr>\n",
       "  </tbody>\n",
       "</table>\n",
       "</div>"
      ],
      "text/plain": [
       "                         val_greedy_paper val_greedy_ours test_greedy_paper  \\\n",
       "generic                             55.57       52.656243             55.38   \n",
       "personalized_random_init            15.65       18.583681             15.38   \n",
       "personalized_finetuned              11.39       13.229574             11.28   \n",
       "\n",
       "                         test_greedy_ours val_6_gram_paper val_6_gram_ours  \\\n",
       "generic                         52.268356             52.1        47.55967   \n",
       "personalized_random_init        17.035794            11.03       12.045632   \n",
       "personalized_finetuned          13.046594             8.31        8.955916   \n",
       "\n",
       "                         test_6_gram_paper test_6_gram_ours  \n",
       "generic                              51.78        47.049965  \n",
       "personalized_random_init              9.55         9.125092  \n",
       "personalized_finetuned                6.95         7.674819  "
      ]
     },
     "execution_count": 5,
     "metadata": {},
     "output_type": "execute_result"
    }
   ],
   "source": [
    "compiled_results.head()"
   ]
  },
  {
   "cell_type": "code",
   "execution_count": 6,
   "metadata": {},
   "outputs": [],
   "source": [
    "compiled_results.to_csv('compiled_results.csv')"
   ]
  },
  {
   "cell_type": "code",
   "execution_count": null,
   "metadata": {},
   "outputs": [],
   "source": []
  }
 ],
 "metadata": {
  "kernelspec": {
   "display_name": "emg2qwerty",
   "language": "python",
   "name": "python3"
  },
  "language_info": {
   "codemirror_mode": {
    "name": "ipython",
    "version": 3
   },
   "file_extension": ".py",
   "mimetype": "text/x-python",
   "name": "python",
   "nbconvert_exporter": "python",
   "pygments_lexer": "ipython3",
   "version": "3.10.13"
  }
 },
 "nbformat": 4,
 "nbformat_minor": 2
}
