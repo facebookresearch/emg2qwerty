{
 "cells": [
  {
   "cell_type": "markdown",
   "metadata": {},
   "source": [
    "Sanity check for random init personalized models with greedy decoding"
   ]
  },
  {
   "cell_type": "code",
   "execution_count": 1,
   "metadata": {},
   "outputs": [],
   "source": [
    "import json\n",
    "import pandas as pd\n",
    "import os\n",
    "import numpy as np"
   ]
  },
  {
   "cell_type": "code",
   "execution_count": 2,
   "metadata": {},
   "outputs": [],
   "source": [
    "paper_results = json.load(open('../paper_results.json'))['personalized_random_init_CER']\n",
    "\n",
    "user_metric_files = os.listdir('./metrics')\n",
    "\n",
    "user_cer_test = []\n",
    "user_cer_val = []\n",
    "\n",
    "for user_file in user_metric_files:\n",
    "\n",
    "    # Loader user results\n",
    "    user_metrics = json.load(open(os.path.join('./metrics', user_file)))\n",
    "\n",
    "    # Extract CER for val and test splits\n",
    "    user_cer_test.append(user_metrics['test']['CER'])\n",
    "    user_cer_val.append(user_metrics['val']['CER'])\n",
    "\n",
    "compiled_results = {\n",
    "    \n",
    "    \"test\": {\n",
    "        \"paper_greedy\": paper_results['test_no_lm'],\n",
    "        \"ours_greedy\": np.mean(user_cer_test),\n",
    "    }, \n",
    "    \n",
    "    \"val\": {\n",
    "        \"paper_greedy\": paper_results['val_no_lm'],\n",
    "        \"ours_greedy\": np.mean(user_cer_val),\n",
    "    }\n",
    "}\n",
    "\n",
    "json.dump(compiled_results, open('compiled_metrics.json', 'w'), indent=3)"
   ]
  },
  {
   "cell_type": "code",
   "execution_count": null,
   "metadata": {},
   "outputs": [],
   "source": []
  }
 ],
 "metadata": {
  "kernelspec": {
   "display_name": "emg2qwerty",
   "language": "python",
   "name": "python3"
  },
  "language_info": {
   "codemirror_mode": {
    "name": "ipython",
    "version": 3
   },
   "file_extension": ".py",
   "mimetype": "text/x-python",
   "name": "python",
   "nbconvert_exporter": "python",
   "pygments_lexer": "ipython3",
   "version": "3.10.13"
  }
 },
 "nbformat": 4,
 "nbformat_minor": 2
}
