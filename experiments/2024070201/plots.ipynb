{
 "cells": [
  {
   "cell_type": "markdown",
   "metadata": {},
   "source": [
    "# Overview\n",
    "This training run replicates the results of the emg2qwerty paper using their hyperparams and repo for the **generic** (no personalization) model."
   ]
  },
  {
   "cell_type": "code",
   "execution_count": 3,
   "metadata": {},
   "outputs": [],
   "source": [
    "import json\n",
    "import pandas as pd"
   ]
  },
  {
   "cell_type": "code",
   "execution_count": 4,
   "metadata": {},
   "outputs": [
    {
     "data": {
      "text/html": [
       "<div>\n",
       "<style scoped>\n",
       "    .dataframe tbody tr th:only-of-type {\n",
       "        vertical-align: middle;\n",
       "    }\n",
       "\n",
       "    .dataframe tbody tr th {\n",
       "        vertical-align: top;\n",
       "    }\n",
       "\n",
       "    .dataframe thead th {\n",
       "        text-align: right;\n",
       "    }\n",
       "</style>\n",
       "<table border=\"1\" class=\"dataframe\">\n",
       "  <thead>\n",
       "    <tr style=\"text-align: right;\">\n",
       "      <th></th>\n",
       "      <th>test</th>\n",
       "      <th>val</th>\n",
       "    </tr>\n",
       "  </thead>\n",
       "  <tbody>\n",
       "    <tr>\n",
       "      <th>paper_greedy</th>\n",
       "      <td>55.380000</td>\n",
       "      <td>55.570000</td>\n",
       "    </tr>\n",
       "    <tr>\n",
       "      <th>ours_greedy</th>\n",
       "      <td>56.073231</td>\n",
       "      <td>31.714783</td>\n",
       "    </tr>\n",
       "  </tbody>\n",
       "</table>\n",
       "</div>"
      ],
      "text/plain": [
       "                   test        val\n",
       "paper_greedy  55.380000  55.570000\n",
       "ours_greedy   56.073231  31.714783"
      ]
     },
     "execution_count": 4,
     "metadata": {},
     "output_type": "execute_result"
    }
   ],
   "source": [
    "reuslts_greedy = json.load(open('./generic_metrics_greedy.json'))\n",
    "paper_results = json.load(open('../paper_results.json'))['generic_CER']\n",
    "\n",
    "compiled_results = {\n",
    "    \n",
    "    \"test\": {\n",
    "        \"paper_greedy\": paper_results['test_no_lm'],\n",
    "        \"ours_greedy\": reuslts_greedy['test']['CER'],\n",
    "    }, \n",
    "    \n",
    "    \"val\": {\n",
    "        \"paper_greedy\": paper_results['val_no_lm'],\n",
    "        \"ours_greedy\": reuslts_greedy['val']['CER'],\n",
    "    }\n",
    "}\n",
    "\n",
    "compiled_results = pd.DataFrame(compiled_results)\n",
    "\n",
    "compiled_results.head()"
   ]
  },
  {
   "cell_type": "code",
   "execution_count": null,
   "metadata": {},
   "outputs": [],
   "source": []
  }
 ],
 "metadata": {
  "kernelspec": {
   "display_name": "emg2qwerty",
   "language": "python",
   "name": "python3"
  },
  "language_info": {
   "codemirror_mode": {
    "name": "ipython",
    "version": 3
   },
   "file_extension": ".py",
   "mimetype": "text/x-python",
   "name": "python",
   "nbconvert_exporter": "python",
   "pygments_lexer": "ipython3",
   "version": "3.10.13"
  }
 },
 "nbformat": 4,
 "nbformat_minor": 2
}
