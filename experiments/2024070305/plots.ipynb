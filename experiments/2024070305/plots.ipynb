{
 "cells": [
  {
   "cell_type": "markdown",
   "metadata": {},
   "source": [
    "# Overview\n",
    "Evaluation of the random init personalized models [2024070302] with a 6-gram LM."
   ]
  },
  {
   "cell_type": "code",
   "execution_count": 1,
   "metadata": {},
   "outputs": [],
   "source": [
    "import json\n",
    "import pandas as pd\n",
    "import os\n",
    "import numpy as np"
   ]
  },
  {
   "cell_type": "code",
   "execution_count": 2,
   "metadata": {},
   "outputs": [
    {
     "data": {
      "text/html": [
       "<div>\n",
       "<style scoped>\n",
       "    .dataframe tbody tr th:only-of-type {\n",
       "        vertical-align: middle;\n",
       "    }\n",
       "\n",
       "    .dataframe tbody tr th {\n",
       "        vertical-align: top;\n",
       "    }\n",
       "\n",
       "    .dataframe thead th {\n",
       "        text-align: right;\n",
       "    }\n",
       "</style>\n",
       "<table border=\"1\" class=\"dataframe\">\n",
       "  <thead>\n",
       "    <tr style=\"text-align: right;\">\n",
       "      <th></th>\n",
       "      <th>test</th>\n",
       "      <th>val</th>\n",
       "    </tr>\n",
       "  </thead>\n",
       "  <tbody>\n",
       "    <tr>\n",
       "      <th>paper_lm</th>\n",
       "      <td>9.550000</td>\n",
       "      <td>11.030000</td>\n",
       "    </tr>\n",
       "    <tr>\n",
       "      <th>ours_lm</th>\n",
       "      <td>9.125092</td>\n",
       "      <td>12.045632</td>\n",
       "    </tr>\n",
       "  </tbody>\n",
       "</table>\n",
       "</div>"
      ],
      "text/plain": [
       "              test        val\n",
       "paper_lm  9.550000  11.030000\n",
       "ours_lm   9.125092  12.045632"
      ]
     },
     "execution_count": 2,
     "metadata": {},
     "output_type": "execute_result"
    }
   ],
   "source": [
    "paper_results = json.load(open('../paper_results.json'))['personalized_random_init_CER']\n",
    "\n",
    "user_metric_files = os.listdir('./metrics')\n",
    "\n",
    "user_cer_test = []\n",
    "user_cer_val = []\n",
    "\n",
    "for user_file in user_metric_files:\n",
    "\n",
    "    # Loader user results\n",
    "    user_metrics = json.load(open(os.path.join('./metrics', user_file)))\n",
    "\n",
    "    # Extract CER for val and test splits\n",
    "    user_cer_test.append(user_metrics['test']['CER'])\n",
    "    user_cer_val.append(user_metrics['val']['CER'])\n",
    "\n",
    "compiled_results = {\n",
    "    \n",
    "    \"test\": {\n",
    "        \"paper_lm\": paper_results['test_6_gram'],\n",
    "        \"ours_lm\": np.mean(user_cer_test),\n",
    "    }, \n",
    "    \n",
    "    \"val\": {\n",
    "        \"paper_lm\": paper_results['val_6_gram'],\n",
    "        \"ours_lm\": np.mean(user_cer_val),\n",
    "    }\n",
    "}\n",
    "\n",
    "compiled_results = pd.DataFrame(compiled_results)\n",
    "\n",
    "compiled_results.head()"
   ]
  },
  {
   "cell_type": "code",
   "execution_count": null,
   "metadata": {},
   "outputs": [],
   "source": []
  }
 ],
 "metadata": {
  "kernelspec": {
   "display_name": "emg2qwerty",
   "language": "python",
   "name": "python3"
  },
  "language_info": {
   "codemirror_mode": {
    "name": "ipython",
    "version": 3
   },
   "file_extension": ".py",
   "mimetype": "text/x-python",
   "name": "python",
   "nbconvert_exporter": "python",
   "pygments_lexer": "ipython3",
   "version": "3.10.13"
  }
 },
 "nbformat": 4,
 "nbformat_minor": 2
}
