{
 "cells": [
  {
   "cell_type": "code",
   "execution_count": 2,
   "metadata": {},
   "outputs": [],
   "source": [
    "import json\n",
    "import pandas as pd\n",
    "import numpy as np"
   ]
  },
  {
   "cell_type": "code",
   "execution_count": 3,
   "metadata": {},
   "outputs": [
    {
     "data": {
      "text/html": [
       "<div>\n",
       "<style scoped>\n",
       "    .dataframe tbody tr th:only-of-type {\n",
       "        vertical-align: middle;\n",
       "    }\n",
       "\n",
       "    .dataframe tbody tr th {\n",
       "        vertical-align: top;\n",
       "    }\n",
       "\n",
       "    .dataframe thead th {\n",
       "        text-align: right;\n",
       "    }\n",
       "</style>\n",
       "<table border=\"1\" class=\"dataframe\">\n",
       "  <thead>\n",
       "    <tr style=\"text-align: right;\">\n",
       "      <th></th>\n",
       "      <th>paper</th>\n",
       "      <th>8x GPU</th>\n",
       "      <th>4x GPU</th>\n",
       "      <th>2x GPU</th>\n",
       "      <th>1x GPU</th>\n",
       "    </tr>\n",
       "  </thead>\n",
       "  <tbody>\n",
       "    <tr>\n",
       "      <th>test</th>\n",
       "      <td>15.38</td>\n",
       "      <td>80.774940</td>\n",
       "      <td>36.030277</td>\n",
       "      <td>17.313064</td>\n",
       "      <td>15.358731</td>\n",
       "    </tr>\n",
       "    <tr>\n",
       "      <th>val</th>\n",
       "      <td>15.65</td>\n",
       "      <td>80.224867</td>\n",
       "      <td>37.036503</td>\n",
       "      <td>18.785863</td>\n",
       "      <td>15.471891</td>\n",
       "    </tr>\n",
       "  </tbody>\n",
       "</table>\n",
       "</div>"
      ],
      "text/plain": [
       "      paper     8x GPU     4x GPU     2x GPU     1x GPU\n",
       "test  15.38  80.774940  36.030277  17.313064  15.358731\n",
       "val   15.65  80.224867  37.036503  18.785863  15.471891"
      ]
     },
     "execution_count": 3,
     "metadata": {},
     "output_type": "execute_result"
    }
   ],
   "source": [
    "paper_results = json.load(open('paper_results.json'))['personalized_random_init_CER']\n",
    "\n",
    "gpu_x8 = json.load(open('2024070603/compiled_metrics.json'))\n",
    "gpu_x4 = json.load(open('2024070702/compiled_metrics.json'))\n",
    "gpu_x2 = json.load(open('2024070604/compiled_metrics.json'))\n",
    "gpu_x1 = json.load(open('2024070606/compiled_metrics.json'))\n",
    "\n",
    "compiled_results = {\n",
    "    \"test\": {\n",
    "        \"paper\": paper_results['test_no_lm'],\n",
    "        \"8x GPU\": gpu_x8['test']['ours_greedy'],\n",
    "        \"4x GPU\": gpu_x4['test']['ours_greedy'],\n",
    "        \"2x GPU\": gpu_x2['test']['ours_greedy'],\n",
    "        \"1x GPU\": gpu_x1['test']['ours_greedy']\n",
    "    },\n",
    "    \"val\": {\n",
    "        \"paper\": paper_results['val_no_lm'],\n",
    "        \"8x GPU\": gpu_x8['val']['ours_greedy'],\n",
    "        \"4x GPU\": gpu_x4['val']['ours_greedy'],\n",
    "        \"2x GPU\": gpu_x2['val']['ours_greedy'],\n",
    "        \"1x GPU\": gpu_x1['val']['ours_greedy']\n",
    "    }\n",
    "}\n",
    "\n",
    "compiled_results = pd.DataFrame(compiled_results).T\n",
    "compiled_results.head()"
   ]
  },
  {
   "cell_type": "code",
   "execution_count": null,
   "metadata": {},
   "outputs": [],
   "source": []
  }
 ],
 "metadata": {
  "kernelspec": {
   "display_name": "emg2qwerty",
   "language": "python",
   "name": "python3"
  },
  "language_info": {
   "codemirror_mode": {
    "name": "ipython",
    "version": 3
   },
   "file_extension": ".py",
   "mimetype": "text/x-python",
   "name": "python",
   "nbconvert_exporter": "python",
   "pygments_lexer": "ipython3",
   "version": "3.10.13"
  }
 },
 "nbformat": 4,
 "nbformat_minor": 2
}
