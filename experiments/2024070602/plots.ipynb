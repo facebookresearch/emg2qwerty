{
 "cells": [
  {
   "cell_type": "markdown",
   "metadata": {},
   "source": [
    "Eval of generic model [2024070501] using greedy and 6-gram LM decoding"
   ]
  },
  {
   "cell_type": "code",
   "execution_count": 2,
   "metadata": {},
   "outputs": [],
   "source": [
    "import os\n",
    "import pandas as pd\n",
    "import json\n",
    "import numpy as np"
   ]
  },
  {
   "cell_type": "code",
   "execution_count": 10,
   "metadata": {},
   "outputs": [],
   "source": [
    "paper_results = json.load(open('../paper_results.json'))['generic_CER']\n",
    "\n",
    "compiled_results = {}\n",
    "\n",
    "for decoder in os.listdir('metrics'):\n",
    "\n",
    "    mean_val_CER_per_seed = []\n",
    "    mean_test_CER_per_seed = []\n",
    "\n",
    "    decoder_dir = os.path.join('metrics', decoder)\n",
    "\n",
    "    for seed_dir in os.listdir(decoder_dir): # For each seed\n",
    "\n",
    "        seed_dir_path = os.path.join(decoder_dir, seed_dir)\n",
    "        val_CER, test_CER = [], []\n",
    "\n",
    "        for user_file in os.listdir(seed_dir_path): # For each user\n",
    "\n",
    "            metrics = json.load(open(os.path.join(seed_dir_path, user_file)))\n",
    "            val_CER.append(metrics['val']['CER'])\n",
    "            test_CER.append(metrics['test']['CER'])\n",
    "\n",
    "        mean_val_CER_per_seed.append(np.mean(val_CER))\n",
    "        mean_test_CER_per_seed.append(np.mean(test_CER))\n",
    "\n",
    "    compiled_results[decoder] = {\n",
    "        \"mean_val_CER\": np.mean(mean_val_CER_per_seed),\n",
    "        \"mean_test_CER\": np.mean(mean_test_CER_per_seed),\n",
    "        \"val_CER_std\": np.std(mean_val_CER_per_seed),\n",
    "        \"test_CER_std\": np.std(mean_test_CER_per_seed),\n",
    "    }\n",
    "json.dump(compiled_results, open('compiled_metrics.json', 'w'), indent=3)"
   ]
  },
  {
   "cell_type": "code",
   "execution_count": null,
   "metadata": {},
   "outputs": [],
   "source": []
  }
 ],
 "metadata": {
  "kernelspec": {
   "display_name": "emg2qwerty",
   "language": "python",
   "name": "python3"
  },
  "language_info": {
   "codemirror_mode": {
    "name": "ipython",
    "version": 3
   },
   "file_extension": ".py",
   "mimetype": "text/x-python",
   "name": "python",
   "nbconvert_exporter": "python",
   "pygments_lexer": "ipython3",
   "version": "3.1.-1"
  }
 },
 "nbformat": 4,
 "nbformat_minor": 2
}
